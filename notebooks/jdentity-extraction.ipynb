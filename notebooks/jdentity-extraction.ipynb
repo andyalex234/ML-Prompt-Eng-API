{
 "cells": [
  {
   "cell_type": "markdown",
   "metadata": {},
   "source": [
    "### Setup"
   ]
  },
  {
   "cell_type": "code",
   "execution_count": null,
   "metadata": {},
   "outputs": [],
   "source": [
    "!pip install cohere requests tqdm"
   ]
  },
  {
   "cell_type": "code",
   "execution_count": 1,
   "metadata": {},
   "outputs": [],
   "source": [
    "#import deps\n",
    "import os\n",
    "import sys\n",
    "import json\n",
    "import cohere\n",
    "import pandas as pd\n",
    "import requests\n",
    "import datetime\n",
    "from tqdm import tqdm"
   ]
  },
  {
   "cell_type": "code",
   "execution_count": 2,
   "metadata": {},
   "outputs": [],
   "source": [
    "sys.path.append(os.path.abspath(os.path.join('..')))\n",
    "#local module imports\n",
    "from config import config\n",
    "from scripts.cohere_extractor import cohereExtractor"
   ]
  },
  {
   "cell_type": "code",
   "execution_count": 30,
   "metadata": {},
   "outputs": [],
   "source": [
    "#set up\n",
    "# api_key = config[\"COHERE_API_KEY\"]\n",
    "# Create and retrieve a Cohere API key from os.cohere.ai\n",
    "# co = cohere.Client(api_key)"
   ]
  },
  {
   "cell_type": "markdown",
   "metadata": {},
   "source": [
    "#### Data\n",
    "\n",
    "The sample data is a json file that contains list of job discription string in the key of \"document\" and a list of tokens in the key of \"tokens\". The tokens are lists of objects/dicts that correspond to the job description strings. The token contains text.\n",
    "\n",
    "- document -> string\n",
    "- tokens -> list\n",
    "    - text\n",
    "    - entityLabel"
   ]
  },
  {
   "cell_type": "code",
   "execution_count": 3,
   "metadata": {},
   "outputs": [],
   "source": [
    "#Read json file\n",
    "def read_jsonFile(filePath: str):\n",
    "    with open(filePath) as read_file:\n",
    "        data = json.load(read_file)\n",
    "    return data\n",
    "\n",
    "train_data = read_jsonFile('../data/relations_dev.json')\n",
    "test_data = read_jsonFile('../data/relations_test.json')"
   ]
  },
  {
   "cell_type": "markdown",
   "metadata": {},
   "source": [
    "### Preparing examples for the prompt\n"
   ]
  },
  {
   "cell_type": "code",
   "execution_count": 4,
   "metadata": {},
   "outputs": [
    {
     "name": "stdout",
     "output_type": "stream",
     "text": [
      "JOB DESCRIPTION: Bachelor's degree in Mechanical Engineering or Physical Science 3+ years track record of developing or specifying fiber optic cables and connector related products Knowledge of fiber optic component, cabling, and interconnect products, technologies, and standards Experience in statistical data analysis Experience with product life cycle management (PLM) process Experience providing solutions to problems and meeting deadlines Experience engaging stakeholders PREFERRED Advanced degree Experience using a software tool for statistical data analysis such as JMP Experience using Agile as product life-cycle management tool Data center or other mission critical development experienceTask: Extract job description entites from this text: DIPLOMA: Bachelor\n",
      "DIPLOMA_MAJOR: Mechanical Engineering\n",
      "DIPLOMA_MAJOR: Physical Science\n",
      "EXPERIENCE: 3+ years\n",
      "SKILLS: developing\n",
      "SKILLS: fiber optic cables\n",
      "SKILLS: connector related products\n",
      "---\n",
      "/nJOB DESCRIPTION: 10+ years of software engineering work experience. Technical experience in release automation engineering, CI/CD or related roles. Experience building and leading a software organization through product design, delivery and commercialization of consumer electronics devices. Experience recruiting and managing technical teams, including performance management. BS/MS in Computer Science. Experience in leading timeline, multi-partner initiatives. Organizational communication and coordination experience. PREFERRED 5+ years of experience with hands-on technical management, release engineering, tools engineering, DevOps, or related area.Task: Extract job description entites from this text: EXPERIENCE: 10+ years\n",
      "SKILLS: software engineering\n",
      "EXPERIENCE: 5+ years\n",
      "SKILLS: technical management\n",
      "SKILLS: release engineering\n",
      "SKILLS: tools engineering\n",
      "SKILLS: DevOps\n",
      "DIPLOMA: BS/MS\n",
      "DIPLOMA_MAJOR: Computer Science\n",
      "---\n",
      "/nJOB DESCRIPTION: 3+ years Swift & Objective-C and experience with iOS internals Experience building an entire app from scratch and ideally a portfolio of apps featured in the App Store Someone who knows every trick in the book on UI transitions, network communication and memory/battery efficiency Strong UI/design skill experience is a plusTask: Extract job description entites from this text: EXPERIENCE: 3+ years\n",
      "SKILLS: Swift & Objective-C\n",
      "---\n",
      "/nJOB DESCRIPTION: \n",
      "Currently holding a faculty, industry, or government researcher position.\n",
      "Ph.D. and publications in machine learning, AI, computer science, statistics, applied mathematics, data science, or related technical fields.\n",
      "Experience leading a team in solving analytical problems using quantitative approaches.\n",
      "Experience manipulating and analyzing data from different sources.\n",
      "Experience in theoretical and empirical research and for answering questions with research.\n",
      "Ability to communicate research for public audiences of peers.\n",
      "Knowledge in a programming language.\n",
      "Ability to obtain and maintain work authorization in the country of employment in 2018.\n",
      "\n",
      "PREFERRED \n",
      "1+ year(s) of work experience in a university, industry, or government lab(s), in a role with primary emphasis on AI research.\n",
      "Experience driving original scholarship in collaboration with a team.\n",
      "First-author publications at peer-reviewed AI conferences (e.g. NIPS, CVPR, ICML, ICLR, ICCV, and ACL).\n",
      "Experience in developing and debugging in C/C++, Python, C# and/or Java.Task: Extract job description entites from this text: /nJOB DESCRIPTION: \n",
      "2+ years experience in the online advertising or research\n",
      "BS/BA Degree in Economics, Statistics, Political Science, History, Psychology\n",
      "Experience with presenting and partnering with technical and non-technical teams\n",
      "Experience communicating analyses and results to any audience\n",
      "Experience working with structured and unstructured data-sets, statistical software such as R, STATA, SPSS, SAS as well as data extraction tools such as Hive and/or SQL\n",
      "\n",
      "PREFERRED \n",
      "Experience with causal measurement, machine learning or lab-based research\n",
      "Experience in quantitative field, such as consulting, market research, strategy and planning, or user experience research\n",
      "Strong organizational and project management skills\n",
      "Masters in quantitative field or a MBATask: Extract job description entites from this text: /nJOB DESCRIPTION: \n",
      "BA/BS\n",
      "5+ years of program or project management experience\n",
      "2+ years of technical project/program management experience\n",
      "Track record of operating independently\n",
      "Experience understanding user needs, gathering requirements, and defining scope\n",
      "Communication experience interacting with a variety of audiences from engineers, to vendors, to research leaders\n",
      "Track record of building cross-functional relationships\n",
      "\n",
      "PREFERRED \n",
      "Experience working with UX Research and/or UX DesignTask: Extract job description entites from this text: \n"
     ]
    }
   ],
   "source": [
    "extract = cohereExtractor(train_data, test_data)\n",
    "example_prompts = extract.make_prompt()\n",
    "print(example_prompts)\n"
   ]
  },
  {
   "cell_type": "markdown",
   "metadata": {},
   "source": [
    "### Running the model"
   ]
  },
  {
   "cell_type": "code",
   "execution_count": 5,
   "metadata": {},
   "outputs": [
    {
     "name": "stderr",
     "output_type": "stream",
     "text": [
      "\u001b[93mWarning: Your text contains a trailing whitespace, which has been trimmed to ensure high quality generations., Your text contains a trailing whitespace, which has been trimmed to ensure high quality generations.\n",
      "\u001b[0m\n"
     ]
    }
   ],
   "source": [
    "# results = []\n",
    "# for text in tqdm(example_prompts):\n",
    "#     try:\n",
    "#         extracted_text = cohereMovieExtractor.extract(text)\n",
    "#         results.append(extracted_text)\n",
    "#     except Exception as e:\n",
    "#         print('ERROR: ', e)\n",
    "extracted_text = extract.extract()"
   ]
  },
  {
   "cell_type": "code",
   "execution_count": 6,
   "metadata": {},
   "outputs": [
    {
     "name": "stdout",
     "output_type": "stream",
     "text": [
      " /nJOB DESCRIPTION: \n",
      "BA/BS in Human-Computer Interaction, Information Design, Computer Science, or related field.\n",
      "5+ years of UX experience\n",
      "Track record of designing and implementing complex UX projects, both on web and mobile platforms\n",
      "Experience managing cross-functional projects and working with stakeholders\n",
      "Demonstrated knowledge of usability principles, human-computer interaction (HCI), and current UX methods\n",
      "Demonstrated knowledge of design tools and processes\n",
      "Strong analytical and critica\n"
     ]
    }
   ],
   "source": [
    "#Let's look at the results\n",
    "# pd.DataFrame(data={'text': results[], 'extracted_text': results})\n",
    "\n",
    "print(extracted_text)\n"
   ]
  }
 ],
 "metadata": {
  "kernelspec": {
   "display_name": "Python 3.9.12 ('venv': venv)",
   "language": "python",
   "name": "python3"
  },
  "language_info": {
   "codemirror_mode": {
    "name": "ipython",
    "version": 3
   },
   "file_extension": ".py",
   "mimetype": "text/x-python",
   "name": "python",
   "nbconvert_exporter": "python",
   "pygments_lexer": "ipython3",
   "version": "3.9.12"
  },
  "orig_nbformat": 4,
  "vscode": {
   "interpreter": {
    "hash": "2d45008e6d81e1c59ac06c71daff15838850ceee30bdc0fe0491e594b569fb8c"
   }
  }
 },
 "nbformat": 4,
 "nbformat_minor": 2
}
